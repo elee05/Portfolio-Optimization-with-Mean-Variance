{
 "cells": [
  {
   "cell_type": "markdown",
   "id": "21d7f1fc",
   "metadata": {},
   "source": [
    "gathering avg returns for each security, average risk, and correlation between each pair"
   ]
  },
  {
   "cell_type": "code",
   "execution_count": 1,
   "id": "c593e208",
   "metadata": {},
   "outputs": [],
   "source": [
    "import numpy as np\n",
    "import pandas as pd\n",
    "from matplotlib import pyplot as plt"
   ]
  },
  {
   "cell_type": "code",
   "execution_count": 4,
   "id": "1cebcaf6",
   "metadata": {},
   "outputs": [
    {
     "name": "stderr",
     "output_type": "stream",
     "text": [
      "<>:1: SyntaxWarning: invalid escape sequence '\\D'\n",
      "<>:1: SyntaxWarning: invalid escape sequence '\\D'\n",
      "C:\\Users\\sirer\\AppData\\Local\\Temp\\ipykernel_36956\\3311409751.py:1: SyntaxWarning: invalid escape sequence '\\D'\n",
      "  df = pd.read_csv(\"..\\Data\\Weekly24-25.csv\")\n"
     ]
    }
   ],
   "source": [
    "df = pd.read_csv(\"..\\Data\\Weekly24-25.csv\")"
   ]
  },
  {
   "cell_type": "code",
   "execution_count": 5,
   "id": "317dfce7",
   "metadata": {},
   "outputs": [],
   "source": [
    "#convert to week to month timeframe\n",
    "df=df.iloc[lambda x: x.index % 4 == 0]\n",
    "df_cleaned = df\n"
   ]
  },
  {
   "cell_type": "code",
   "execution_count": 6,
   "id": "f6f38b5f",
   "metadata": {},
   "outputs": [
    {
     "data": {
      "text/html": [
       "<div>\n",
       "<style scoped>\n",
       "    .dataframe tbody tr th:only-of-type {\n",
       "        vertical-align: middle;\n",
       "    }\n",
       "\n",
       "    .dataframe tbody tr th {\n",
       "        vertical-align: top;\n",
       "    }\n",
       "\n",
       "    .dataframe thead th {\n",
       "        text-align: right;\n",
       "    }\n",
       "</style>\n",
       "<table border=\"1\" class=\"dataframe\">\n",
       "  <thead>\n",
       "    <tr style=\"text-align: right;\">\n",
       "      <th></th>\n",
       "      <th>Date</th>\n",
       "      <th>Close</th>\n",
       "      <th>returns</th>\n",
       "    </tr>\n",
       "  </thead>\n",
       "  <tbody>\n",
       "    <tr>\n",
       "      <th>0</th>\n",
       "      <td>2024-01-26 16:00:00</td>\n",
       "      <td>192.42</td>\n",
       "      <td>NaN</td>\n",
       "    </tr>\n",
       "    <tr>\n",
       "      <th>1</th>\n",
       "      <td>2024-02-23 16:00:00</td>\n",
       "      <td>182.52</td>\n",
       "      <td>-0.051450</td>\n",
       "    </tr>\n",
       "    <tr>\n",
       "      <th>2</th>\n",
       "      <td>2024-03-22 16:00:00</td>\n",
       "      <td>172.28</td>\n",
       "      <td>-0.056103</td>\n",
       "    </tr>\n",
       "    <tr>\n",
       "      <th>3</th>\n",
       "      <td>2024-04-19 16:00:00</td>\n",
       "      <td>165.00</td>\n",
       "      <td>-0.042257</td>\n",
       "    </tr>\n",
       "    <tr>\n",
       "      <th>4</th>\n",
       "      <td>2024-05-17 16:00:00</td>\n",
       "      <td>189.87</td>\n",
       "      <td>0.150727</td>\n",
       "    </tr>\n",
       "    <tr>\n",
       "      <th>5</th>\n",
       "      <td>2024-06-14 16:00:00</td>\n",
       "      <td>212.49</td>\n",
       "      <td>0.119134</td>\n",
       "    </tr>\n",
       "    <tr>\n",
       "      <th>6</th>\n",
       "      <td>2024-07-12 16:00:00</td>\n",
       "      <td>230.54</td>\n",
       "      <td>0.084945</td>\n",
       "    </tr>\n",
       "    <tr>\n",
       "      <th>7</th>\n",
       "      <td>2024-08-09 16:00:00</td>\n",
       "      <td>216.24</td>\n",
       "      <td>-0.062028</td>\n",
       "    </tr>\n",
       "    <tr>\n",
       "      <th>8</th>\n",
       "      <td>2024-09-06 16:00:00</td>\n",
       "      <td>220.82</td>\n",
       "      <td>0.021180</td>\n",
       "    </tr>\n",
       "    <tr>\n",
       "      <th>9</th>\n",
       "      <td>2024-10-04 16:00:00</td>\n",
       "      <td>226.80</td>\n",
       "      <td>0.027081</td>\n",
       "    </tr>\n",
       "    <tr>\n",
       "      <th>10</th>\n",
       "      <td>2024-11-01 16:00:00</td>\n",
       "      <td>222.91</td>\n",
       "      <td>-0.017152</td>\n",
       "    </tr>\n",
       "    <tr>\n",
       "      <th>11</th>\n",
       "      <td>2024-11-29 13:05:00</td>\n",
       "      <td>237.33</td>\n",
       "      <td>0.064690</td>\n",
       "    </tr>\n",
       "    <tr>\n",
       "      <th>12</th>\n",
       "      <td>2024-12-27 16:00:00</td>\n",
       "      <td>255.59</td>\n",
       "      <td>0.076939</td>\n",
       "    </tr>\n",
       "  </tbody>\n",
       "</table>\n",
       "</div>"
      ],
      "text/plain": [
       "                  Date   Close   returns\n",
       "0  2024-01-26 16:00:00  192.42       NaN\n",
       "1  2024-02-23 16:00:00  182.52 -0.051450\n",
       "2  2024-03-22 16:00:00  172.28 -0.056103\n",
       "3  2024-04-19 16:00:00  165.00 -0.042257\n",
       "4  2024-05-17 16:00:00  189.87  0.150727\n",
       "5  2024-06-14 16:00:00  212.49  0.119134\n",
       "6  2024-07-12 16:00:00  230.54  0.084945\n",
       "7  2024-08-09 16:00:00  216.24 -0.062028\n",
       "8  2024-09-06 16:00:00  220.82  0.021180\n",
       "9  2024-10-04 16:00:00  226.80  0.027081\n",
       "10 2024-11-01 16:00:00  222.91 -0.017152\n",
       "11 2024-11-29 13:05:00  237.33  0.064690\n",
       "12 2024-12-27 16:00:00  255.59  0.076939"
      ]
     },
     "metadata": {},
     "output_type": "display_data"
    }
   ],
   "source": [
    "\n",
    "\n",
    "\n",
    "# Skip the first row which contains repeated headers\n",
    "df_cleaned = df.iloc[1:].reset_index(drop=True)\n",
    "\n",
    "# Extract each pair of Date and Close as its own table\n",
    "AAPL = df_cleaned.iloc[:, [0, 1]].rename(columns={df.columns[0]: 'Date', df.columns[1]: 'Close'})\n",
    "MSFT = df_cleaned.iloc[:, [3, 4]].rename(columns={df.columns[3]: 'Date', df.columns[4]: 'Close'})\n",
    "NVDA = df_cleaned.iloc[:, [6, 7]].rename(columns={df.columns[6]: 'Date', df.columns[7]: 'Close'})\n",
    "HD   = df_cleaned.iloc[:, [9, 10]].rename(columns={df.columns[9]: 'Date', df.columns[10]: 'Close'})\n",
    "COST = df_cleaned.iloc[:, [12, 13]].rename(columns={df.columns[12]: 'Date', df.columns[13]: 'Close'})\n",
    "XOM = df_cleaned.iloc[:, [15, 16]].rename(columns={df.columns[15]: 'Date', df.columns[16]: 'Close'})\n",
    "\n",
    "# Optionally convert Close to numeric and Date to datetime\n",
    "for stock in [AAPL, MSFT, NVDA, HD, COST]:\n",
    "    stock['Date'] = pd.to_datetime(stock['Date'])\n",
    "    stock['Close'] = pd.to_numeric(stock['Close'])\n",
    "\n",
    "# Example: display AAPL data\n",
    "AAPL['returns'] = AAPL['Close'].pct_change()\n",
    "MSFT['returns'] = MSFT['Close'].pct_change()\n",
    "NVDA['returns'] = NVDA['Close'].pct_change()\n",
    "HD['returns'] = HD['Close'].pct_change()\n",
    "COST['returns'] = COST['Close'].pct_change()\n",
    "display(AAPL)\n",
    "\n",
    "\n",
    "\n"
   ]
  },
  {
   "cell_type": "code",
   "execution_count": 7,
   "id": "584415f9",
   "metadata": {},
   "outputs": [
    {
     "data": {
      "text/html": [
       "<div>\n",
       "<style scoped>\n",
       "    .dataframe tbody tr th:only-of-type {\n",
       "        vertical-align: middle;\n",
       "    }\n",
       "\n",
       "    .dataframe tbody tr th {\n",
       "        vertical-align: top;\n",
       "    }\n",
       "\n",
       "    .dataframe thead th {\n",
       "        text-align: right;\n",
       "    }\n",
       "</style>\n",
       "<table border=\"1\" class=\"dataframe\">\n",
       "  <thead>\n",
       "    <tr style=\"text-align: right;\">\n",
       "      <th></th>\n",
       "      <th>Date</th>\n",
       "      <th>Close</th>\n",
       "      <th>Returns</th>\n",
       "    </tr>\n",
       "  </thead>\n",
       "  <tbody>\n",
       "    <tr>\n",
       "      <th>0</th>\n",
       "      <td>2024-01-26 16:00:00</td>\n",
       "      <td>403.93</td>\n",
       "      <td>NaN</td>\n",
       "    </tr>\n",
       "    <tr>\n",
       "      <th>1</th>\n",
       "      <td>2024-02-23 16:00:00</td>\n",
       "      <td>410.34</td>\n",
       "      <td>0.015869</td>\n",
       "    </tr>\n",
       "    <tr>\n",
       "      <th>2</th>\n",
       "      <td>2024-03-22 16:00:00</td>\n",
       "      <td>428.74</td>\n",
       "      <td>0.044841</td>\n",
       "    </tr>\n",
       "    <tr>\n",
       "      <th>3</th>\n",
       "      <td>2024-04-19 16:00:00</td>\n",
       "      <td>399.12</td>\n",
       "      <td>-0.069086</td>\n",
       "    </tr>\n",
       "    <tr>\n",
       "      <th>4</th>\n",
       "      <td>2024-05-17 16:00:00</td>\n",
       "      <td>420.21</td>\n",
       "      <td>0.052841</td>\n",
       "    </tr>\n",
       "    <tr>\n",
       "      <th>5</th>\n",
       "      <td>2024-06-14 16:00:00</td>\n",
       "      <td>442.57</td>\n",
       "      <td>0.053211</td>\n",
       "    </tr>\n",
       "    <tr>\n",
       "      <th>6</th>\n",
       "      <td>2024-07-12 16:00:00</td>\n",
       "      <td>453.55</td>\n",
       "      <td>0.024810</td>\n",
       "    </tr>\n",
       "    <tr>\n",
       "      <th>7</th>\n",
       "      <td>2024-08-09 16:00:00</td>\n",
       "      <td>406.02</td>\n",
       "      <td>-0.104796</td>\n",
       "    </tr>\n",
       "    <tr>\n",
       "      <th>8</th>\n",
       "      <td>2024-09-06 16:00:00</td>\n",
       "      <td>401.70</td>\n",
       "      <td>-0.010640</td>\n",
       "    </tr>\n",
       "    <tr>\n",
       "      <th>9</th>\n",
       "      <td>2024-10-04 16:00:00</td>\n",
       "      <td>416.06</td>\n",
       "      <td>0.035748</td>\n",
       "    </tr>\n",
       "    <tr>\n",
       "      <th>10</th>\n",
       "      <td>2024-11-01 16:00:00</td>\n",
       "      <td>410.37</td>\n",
       "      <td>-0.013676</td>\n",
       "    </tr>\n",
       "    <tr>\n",
       "      <th>11</th>\n",
       "      <td>2024-11-29 13:05:00</td>\n",
       "      <td>423.46</td>\n",
       "      <td>0.031898</td>\n",
       "    </tr>\n",
       "    <tr>\n",
       "      <th>12</th>\n",
       "      <td>2024-12-27 16:00:00</td>\n",
       "      <td>430.53</td>\n",
       "      <td>0.016696</td>\n",
       "    </tr>\n",
       "  </tbody>\n",
       "</table>\n",
       "</div>"
      ],
      "text/plain": [
       "                  Date   Close   Returns\n",
       "0  2024-01-26 16:00:00  403.93       NaN\n",
       "1  2024-02-23 16:00:00  410.34  0.015869\n",
       "2  2024-03-22 16:00:00  428.74  0.044841\n",
       "3  2024-04-19 16:00:00  399.12 -0.069086\n",
       "4  2024-05-17 16:00:00  420.21  0.052841\n",
       "5  2024-06-14 16:00:00  442.57  0.053211\n",
       "6  2024-07-12 16:00:00  453.55  0.024810\n",
       "7  2024-08-09 16:00:00  406.02 -0.104796\n",
       "8  2024-09-06 16:00:00  401.70 -0.010640\n",
       "9  2024-10-04 16:00:00  416.06  0.035748\n",
       "10 2024-11-01 16:00:00  410.37 -0.013676\n",
       "11 2024-11-29 13:05:00  423.46  0.031898\n",
       "12 2024-12-27 16:00:00  430.53  0.016696"
      ]
     },
     "execution_count": 7,
     "metadata": {},
     "output_type": "execute_result"
    }
   ],
   "source": [
    "dfs = []\n",
    "i = 0\n",
    "for c in df_cleaned:\n",
    "    if c[0:5] != \"Unnam\":\n",
    "        dfs.append([str(c[0:5]),df_cleaned.iloc[:, [i, i+1]].rename(columns={df.columns[i]: 'Date', df.columns[i+1]: 'Close'})])\n",
    "    i += 1\n",
    "\n",
    "for pair in dfs:\n",
    "    pair[1] = pair[1][pair[1]['Date'] != 'Date']\n",
    "    pair[1]['Date'] = pd.to_datetime(pair[1]['Date'])\n",
    "    pair[1]['Close'] = pd.to_numeric(pair[1]['Close'])\n",
    "    pair[1]['Returns'] = pair[1]['Close'].pct_change()\n",
    "\n",
    "dfs[1][1]\n",
    "\n"
   ]
  },
  {
   "cell_type": "code",
   "execution_count": 8,
   "id": "41c380ac",
   "metadata": {},
   "outputs": [
    {
     "name": "stdout",
     "output_type": "stream",
     "text": [
      "13\n"
     ]
    },
    {
     "data": {
      "text/plain": [
       "[4,\n",
       " [['AAPL',                  Date   Close   Returns\n",
       "   4 2024-05-17 16:00:00  189.87  0.150727\n",
       "   5 2024-06-14 16:00:00  212.49  0.119134\n",
       "   6 2024-07-12 16:00:00  230.54  0.084945\n",
       "   7 2024-08-09 16:00:00  216.24 -0.062028],\n",
       "  ['MSFT',\n",
       "                    Date   Close   Returns\n",
       "   4 2024-05-17 16:00:00  420.21  0.052841\n",
       "   5 2024-06-14 16:00:00  442.57  0.053211\n",
       "   6 2024-07-12 16:00:00  453.55  0.024810\n",
       "   7 2024-08-09 16:00:00  406.02 -0.104796],\n",
       "  ['NVDA',\n",
       "                    Date   Close   Returns\n",
       "   4 2024-05-17 16:00:00   92.48  0.213648\n",
       "   5 2024-06-14 16:00:00  131.88  0.426038\n",
       "   6 2024-07-12 16:00:00  129.24 -0.020018\n",
       "   7 2024-08-09 16:00:00  104.75 -0.189492],\n",
       "  ['HD',\n",
       "                    Date   Close   Returns\n",
       "   4 2024-05-17 16:00:00  344.21  0.026390\n",
       "   5 2024-06-14 16:00:00  346.84  0.007641\n",
       "   6 2024-07-12 16:00:00  359.77  0.037279\n",
       "   7 2024-08-09 16:00:00  348.64 -0.030936],\n",
       "  ['COST',\n",
       "                    Date   Close   Returns\n",
       "   4 2024-05-17 16:00:00  795.81  0.121633\n",
       "   5 2024-06-14 16:00:00  855.67  0.075219\n",
       "   6 2024-07-12 16:00:00  842.90 -0.014924\n",
       "   7 2024-08-09 16:00:00  854.93  0.014272],\n",
       "  ['XOM',\n",
       "                    Date   Close   Returns\n",
       "   4 2024-05-17 16:00:00  119.64 -0.002002\n",
       "   5 2024-06-14 16:00:00  109.11 -0.088014\n",
       "   6 2024-07-12 16:00:00  113.27  0.038127\n",
       "   7 2024-08-09 16:00:00  118.85  0.049263]]]"
      ]
     },
     "execution_count": 8,
     "metadata": {},
     "output_type": "execute_result"
    }
   ],
   "source": [
    "n = len(dfs[1][1])\n",
    "print(n)\n",
    "\n",
    "ranges = []\n",
    "for i in range(n//2):\n",
    "    timerange = []\n",
    "    for pair in dfs:\n",
    "        df = pair[1]\n",
    "        if len(df) >= i + 4:\n",
    "            timerange.append([pair[0],df.iloc[i:i+4]])\n",
    "    ranges.append([i,timerange])\n",
    "\n",
    "ranges[4]"
   ]
  },
  {
   "cell_type": "code",
   "execution_count": null,
   "id": "787358ad",
   "metadata": {},
   "outputs": [],
   "source": []
  },
  {
   "cell_type": "code",
   "execution_count": 9,
   "id": "4cb242ce",
   "metadata": {},
   "outputs": [],
   "source": [
    "def get_var_name(var):\n",
    "    for name, obj in globals().items():\n",
    "        if obj is var:\n",
    "            return name\n",
    "    return None"
   ]
  },
  {
   "cell_type": "code",
   "execution_count": 10,
   "id": "62e06716",
   "metadata": {},
   "outputs": [
    {
     "data": {
      "text/plain": [
       "<matplotlib.legend.Legend at 0x266cc7b57f0>"
      ]
     },
     "execution_count": 10,
     "metadata": {},
     "output_type": "execute_result"
    },
    {
     "data": {
      "image/png": "[encoded data removed]",
      "text/plain": [
       "<Figure size 640x480 with 1 Axes>"
      ]
     },
     "metadata": {},
     "output_type": "display_data"
    }
   ],
   "source": [
    "retlog = []\n",
    "for pair in dfs:\n",
    "    stockRets = []\n",
    "    for r in pair[1]['Returns']:\n",
    "        stockRets.append(r)\n",
    "    retlog.append([pair[0],stockRets])\n",
    "    \n",
    "for log in retlog:\n",
    "    plt.plot(log[1], label = log[0] )\n",
    "\n",
    "plt.title('Stock Returns')\n",
    "plt.xlabel('Time(Months)')\n",
    "plt.ylabel('Percent Returns')\n",
    "plt.legend()"
   ]
  },
  {
   "cell_type": "code",
   "execution_count": 11,
   "id": "ed8f2dce",
   "metadata": {},
   "outputs": [
    {
     "name": "stdout",
     "output_type": "stream",
     "text": [
      "AAPL\n",
      "[ 0.00452537  0.00190612  0.004075    0.00090476  0.00150242 -0.00175535]\n",
      "MSFT\n",
      "[ 0.00190612  0.00204829  0.00620418  0.00187058  0.00098021 -0.0003287 ]\n",
      "NVDA\n",
      "[ 0.004075    0.00620418  0.03010414  0.00621425  0.00445712 -0.00187306]\n",
      "HD\n",
      "[0.00090476 0.00187058 0.00621425 0.00480262 0.0017023  0.0016977 ]\n",
      "COST\n",
      "[ 0.00150242  0.00098021  0.00445712  0.0017023   0.00244911 -0.00031559]\n",
      "XOM\n",
      "[-0.00175535 -0.0003287  -0.00187306  0.0016977  -0.00031559  0.00415867]\n",
      "[[ 0.00452537  0.00190612  0.004075    0.00090476  0.00150242 -0.00175535]\n",
      " [ 0.00190612  0.00204829  0.00620418  0.00187058  0.00098021 -0.0003287 ]\n",
      " [ 0.004075    0.00620418  0.03010414  0.00621425  0.00445712 -0.00187306]\n",
      " [ 0.00090476  0.00187058  0.00621425  0.00480262  0.0017023   0.0016977 ]\n",
      " [ 0.00150242  0.00098021  0.00445712  0.0017023   0.00244911 -0.00031559]\n",
      " [-0.00175535 -0.0003287  -0.00187306  0.0016977  -0.00031559  0.00415867]]\n"
     ]
    }
   ],
   "source": [
    "#stock covariance \n",
    "#initialize matrix\n",
    "num = len(dfs)\n",
    "gamma = np.zeros((num,num),dtype=float)\n",
    "j = 0\n",
    "for pair in dfs:\n",
    "    ar = np.average(pair[1]['Returns'].dropna())\n",
    "    print(pair[0])\n",
    "    v = np.zeros((num),dtype=float)\n",
    "    i = 0\n",
    "    for cross in dfs:\n",
    "        avgReturn_other = np.average(cross[1]['Returns'].dropna())\n",
    "        otherDiffs = [x-avgReturn_other for x in cross[1]['Returns'].dropna()]\n",
    "        mainDiffs = [x-ar for x in pair[1]['Returns'].dropna()]\n",
    "        cov = sum([a*b for a,b in zip(otherDiffs,mainDiffs)])/len(pair[1])\n",
    "        v[i] = cov\n",
    "        if i < len(v)-1:\n",
    "            i+=1\n",
    "    print(v)\n",
    "    gamma[j] = v\n",
    "    if j < len(gamma)-1:\n",
    "        j+=1\n",
    "print(gamma)\n"
   ]
  },
  {
   "cell_type": "code",
   "execution_count": 12,
   "id": "344da777",
   "metadata": {},
   "outputs": [
    {
     "name": "stdout",
     "output_type": "stream",
     "text": [
      "AAPL 0.026308880617625197\n",
      "MSFT 0.006476398903431556\n",
      "NVDA 0.08487926605731806\n",
      "HD 0.011052980528139947\n",
      "COST 0.027729552542715318\n",
      "XOM 0.005037617433489082\n",
      "[0.02630888 0.0064764  0.08487927 0.01105298 0.02772955 0.00503762]\n"
     ]
    }
   ],
   "source": [
    "\n",
    "m = np.zeros(num)\n",
    "for i in range(len(dfs)):\n",
    "    average_return = np.average(dfs[i][1][\"Returns\"].dropna())\n",
    "    print(dfs[i][0], average_return)\n",
    "    m[i] = average_return\n",
    "print(m)\n"
   ]
  },
  {
   "cell_type": "markdown",
   "id": "3a587170",
   "metadata": {},
   "source": [
    "## VaR Demo"
   ]
  },
  {
   "cell_type": "code",
   "execution_count": 13,
   "id": "930338fc",
   "metadata": {},
   "outputs": [
    {
     "name": "stdout",
     "output_type": "stream",
     "text": [
      "[np.float64(0.004525374180240134), np.float64(0.002048290437920837), np.float64(0.03010414382001552), np.float64(0.004802616459438211), np.float64(0.0024491097367937845), np.float64(0.004158668865890931)]\n"
     ]
    },
    {
     "data": {
      "image/png": "[encoded data removed]",
      "text/plain": [
       "<Figure size 640x480 with 1 Axes>"
      ]
     },
     "metadata": {},
     "output_type": "display_data"
    }
   ],
   "source": [
    "vols = []\n",
    "for i in range(len(dfs)):\n",
    "    vols.append(gamma[i][i])\n",
    "print(vols)\n",
    "\n",
    "current_portfolio_value = 10000\n",
    "\n",
    "# figure, axis = plt.subplots(6, 1)\n",
    "\n",
    "colors = ['b','g','r','c','y','b']\n",
    "\n",
    "for i in range(len(m)):\n",
    "    stock_sim_ret = np.random.normal(m[i],vols[i],1000)\n",
    "    portfolio_value_changes = current_portfolio_value * stock_sim_ret\n",
    "    plt.hist(portfolio_value_changes, bins=50, alpha=0.75, color=colors[i%len(colors)],label = dfs[i][0])\n",
    "    plt.legend()\n",
    "    \n",
    "\n",
    "# aapl_simulated_returns = np.random.normal(m[0], vols[0],1000)\n",
    "# portfolio_value_changes = current_portfolio_value * aapl_simulated_returns\n",
    "# plt.hist(portfolio_value_changes, bins=50, alpha=0.75, color='b')\n"
   ]
  }
 ],
 "metadata": {
  "kernelspec": {
   "display_name": "Python 3",
   "language": "python",
   "name": "python3"
  },
  "language_info": {
   "codemirror_mode": {
    "name": "ipython",
    "version": 3
   },
   "file_extension": ".py",
   "mimetype": "text/x-python",
   "name": "python",
   "nbconvert_exporter": "python",
   "pygments_lexer": "ipython3",
   "version": "3.13.3"
  }
 },
 "nbformat": 4,
 "nbformat_minor": 5
}
